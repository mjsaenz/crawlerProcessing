{
 "cells": [
  {
   "cell_type": "code",
   "execution_count": 1,
   "id": "2d97507c",
   "metadata": {
    "scrolled": true
   },
   "outputs": [],
   "source": [
    "#write instructions\n",
    "from tkinter import *\n",
    "import matplotlib\n",
    "matplotlib.use('TkAgg')\n",
    "#other gui mode im trying\n",
    "#%matplotlib widget\n",
    "#calling it a second time may prevent some graphics errors\n",
    "#%matplotlib widget  \n",
    "from matplotlib import pyplot as plt\n",
    "import pandas as pd\n",
    "import pyproj\n",
    "import numpy as np\n",
    "from datetime import datetime\n",
    "import utm\n",
    "from pygeodesy import geoids\n",
    "import glob\n",
    "import os\n",
    "sys.path.append('/home/spike/repos')\n",
    "from getdatatestbed.getDataFRF import getObs\n",
    "import math\n",
    "import pickle\n",
    "import crawlerFunctions as cf\n"
   ]
  },
  {
   "cell_type": "code",
   "execution_count": 2,
   "id": "cb0e6919",
   "metadata": {},
   "outputs": [],
   "source": [
    "data = pd.read_pickle(\"./forMatthew.pickle\")"
   ]
  },
  {
   "cell_type": "code",
   "execution_count": 24,
   "id": "63822b50",
   "metadata": {
    "scrolled": true
   },
   "outputs": [
    {
     "name": "stdout",
     "output_type": "stream",
     "text": [
      "[(95.54372615255376, 123.77233718355484), (262.0154562041322, 134.20244400914962), (258.1769090306128, 193.9385103739198), (98.77618693025431, 183.508403548325), (96.3518413469789, 154.1144661307397), (258.5809666278254, 168.33733907473257), (259.18705302364424, 233.7625546170999), (98.37212933304174, 228.07340543950275), (93.92749576370349, 192.99031884432026), (257.1667650375814, 206.26500025871363), (255.55053464873112, 273.58659886028), (90.49300618739665, 264.10468356428476), (100.3924173191046, 246.08904450189374), (261.0053122111008, 268.8456412122824), (256.56067864176254, 290.65404639307144), (139.7880330473301, 281.1721310970762), (114.33240442293823, 353.2346873466402), (269.49052175256475, 349.4419212282421), (269.49052175256475, 349.4419212282421), (270.50066574559617, 354.1828788762397), (109.28168445778111, 375.99128405702885), (267.67226256510816, 372.19851793863074), (267.2682049678956, 386.4213908826236), (134.13122668635413, 393.0587315898203), (110.89791484663138, 421.50447747780606), (256.76270744036884, 423.40086053700514), (259.7931394194631, 440.4683080697966), (113.12023163130051, 438.57192501059757), (109.68574205499368, 448.0538403065928), (254.3383618570934, 456.5875640729886), (104.43299329123028, 535.2874610297492), (232.3172228090084, 541.9248017369459), (225.65027245500102, 560.8886323289365), (87.66460300690866, 553.3031000921403), (90.08894859018409, 576.059696802529), (223.83201326754443, 585.5416120985242), (84.02808463199554, 629.1584224601024), (207.87173817764796, 628.2102309305029), (205.04333499716, 645.2776784632944), (81.40171025011384, 639.5885292856972), (79.98750865986986, 648.1222530520929), (198.78044224036518, 665.1897005848845), (193.32566467799546, 682.2571481176759)]\n"
     ]
    }
   ],
   "source": [
    "plt.figure(figsize=(12,8))\n",
    "plt.scatter(data[\"xFRF\"], data[\"yFRF\"], c=data[\"time\"], cmap='plasma', s=2)\n",
    "#plt.scatter(data[\"xFRF\"], data[\"yFRF\"], c=data[\"time\"], \".\", markersize=1, cmap=\"plasma\")\n",
    "plt.title('please click (left mouse button) start/end points of profilee line\\nclick middle button DO NOT CLOSE the window when you''re done')\n",
    "plt.xlabel(\"FRF Coordinate System X (m)\")\n",
    "plt.ylabel(\"FRF Coordinate System Y (m)\")\n",
    "plt.tight_layout()\n",
    "nodes = plt.ginput(-1, 0)\n",
    "print(nodes)"
   ]
  },
  {
   "cell_type": "code",
   "execution_count": 26,
   "id": "fcf788de",
   "metadata": {},
   "outputs": [],
   "source": [
    "pickle.dump(nodes, open('coordsDemo.pkl', 'wb'))  # @matt, check this out. way cleaner\n",
    "#     nodes.dump(nodes, f)"
   ]
  },
  {
   "cell_type": "code",
   "execution_count": 27,
   "id": "b93645fb",
   "metadata": {},
   "outputs": [],
   "source": [
    "with open('coordsDemo.pkl', 'rb') as f:\n",
    "    nodes = pickle.load(f)"
   ]
  },
  {
   "cell_type": "code",
   "execution_count": 28,
   "id": "a492d13b",
   "metadata": {},
   "outputs": [],
   "source": [
    "#match user selected endpoints to crawler data points\n",
    "# @matthew look in testbedutils.sblib.closestRadialNode will return you the index of what is the closest point \n",
    "# so you don't have to do all of this \n",
    "#idx = closestRadialNode([xOfInterest, yOfInterest], [xpoints2Search, yPoints2Search])\n",
    "#endpts.append(data['xfrf'].iloc[idx], data['yFRF'].iloc[idx])\n",
    "# this is also slooooow it seams \n",
    "endpts = []\n",
    "for x in range(len(nodes)):\n",
    "    curr = nodes[x]\n",
    "    prevDist = float('inf')\n",
    "    closest = tuple()\n",
    "    for y in range(data.shape[0]):\n",
    "        dist = math.sqrt((data[\"yFRF\"][y]-curr[1])**2 + (data[\"xFRF\"][y]-curr[0])**2)\n",
    "        if dist < prevDist:\n",
    "            prevDist = dist\n",
    "            closest = (data[\"xFRF\"][y], data[\"yFRF\"][y])\n",
    "    endpts.append(closest)"
   ]
  },
  {
   "cell_type": "code",
   "execution_count": 29,
   "id": "70b8432f",
   "metadata": {},
   "outputs": [],
   "source": [
    "#identify endpoints within data frame\n",
    "#@matt is it worth separating start/end points? i'm guessing here is the place?\n",
    "isEndPt = []\n",
    "for x in range(data.shape[0]):\n",
    "    if (data[\"xFRF\"][x], data[\"yFRF\"][x]) in endpts:\n",
    "        isEndPt.append(True)\n",
    "    else:\n",
    "        isEndPt.append(False)\n",
    "data[\"endPt\"] = isEndPt"
   ]
  },
  {
   "cell_type": "code",
   "execution_count": 30,
   "id": "1c086f60",
   "metadata": {},
   "outputs": [],
   "source": [
    "#identify and number transects within dataframe\n",
    "#make transectID median FRFy\n",
    "isTransect = []\n",
    "betweenNodes = False\n",
    "transectNum = -1\n",
    "transectID = []\n",
    "for x in range(data.shape[0]):\n",
    "    if data[\"endPt\"][x] and not betweenNodes:\n",
    "        #first node in time of transect\n",
    "        betweenNodes = True\n",
    "        transectNum += 1;\n",
    "        isTransect.append(True)\n",
    "        transectID.append(transectNum)\n",
    "    elif data[\"endPt\"][x] and betweenNodes:\n",
    "        #last node in time of transect\n",
    "        betweenNodes = False\n",
    "        isTransect.append(True)\n",
    "        transectID.append(transectNum)\n",
    "    else:\n",
    "        isTransect.append(betweenNodes)\n",
    "        if betweenNodes:\n",
    "            transectID.append(transectNum)\n",
    "        else:\n",
    "            transectID.append(-1)\n",
    "data[\"isTransect\"] = isTransect\n",
    "data[\"transectID\"] = transectID"
   ]
  },
  {
   "cell_type": "code",
   "execution_count": 31,
   "id": "092d1800",
   "metadata": {
    "scrolled": true
   },
   "outputs": [
    {
     "data": {
      "text/plain": [
       "Text(0.5, 1.0, 'Transect Isolation Attempt 1')"
      ]
     },
     "execution_count": 31,
     "metadata": {},
     "output_type": "execute_result"
    }
   ],
   "source": [
    "transectsOnly = data[data[\"isTransect\"]==True]\n",
    "plt.scatter(transectsOnly[\"xFRF\"], transectsOnly[\"yFRF\"], c=transectsOnly[\"transectID\"], cmap='hsv', s=1)\n",
    "cbar=plt.colorbar()\n",
    "plt.xlabel(\"FRF Coordinate System X (m)\")\n",
    "plt.ylabel(\"FRF Coordinate System Y (m)\")\n",
    "cbar.set_label('Transect Number')\n",
    "plt.title(\"Transect Isolation Attempt 1\")\n",
    "# plt.savefig(\"demoTransectIsolationAttempt.png\")"
   ]
  },
  {
   "cell_type": "code",
   "execution_count": 18,
   "id": "b364c377",
   "metadata": {},
   "outputs": [],
   "source": [
    "plt.scatter(data[\"xFRF\"], data[\"yFRF\"], c=\"black\", s=1)\n",
    "plt.scatter(transectsOnly[\"xFRF\"], transectsOnly[\"yFRF\"], c=transectsOnly[\"transectID\"], cmap='hsv', s=1)\n",
    "cbar=plt.colorbar()\n",
    "plt.xlabel(\"FRF Coordinate System X (m)\")\n",
    "plt.ylabel(\"FRF Coordinate System Y (m)\")\n",
    "cbar.set_label('Transect Number')\n",
    "plt.title(\"Transect Isolation Attempt 1\")\n",
    "plt.savefig(\"demoTransectIsolationAttemptOverlayed.png\")"
   ]
  },
  {
   "cell_type": "code",
   "execution_count": null,
   "id": "3a50d354",
   "metadata": {},
   "outputs": [],
   "source": [
    "data.toExcel"
   ]
  }
 ],
 "metadata": {
  "kernelspec": {
   "display_name": "Python 3",
   "language": "python",
   "name": "python3"
  },
  "language_info": {
   "codemirror_mode": {
    "name": "ipython",
    "version": 3
   },
   "file_extension": ".py",
   "mimetype": "text/x-python",
   "name": "python",
   "nbconvert_exporter": "python",
   "pygments_lexer": "ipython3",
   "version": "3.8.8"
  }
 },
 "nbformat": 4,
 "nbformat_minor": 5
}
